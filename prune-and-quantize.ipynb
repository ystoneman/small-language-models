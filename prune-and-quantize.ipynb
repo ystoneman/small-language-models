{
 "cells": [
  {
   "cell_type": "markdown",
   "id": "58d2ab92-e3a9-4adc-9a59-14030d02391c",
   "metadata": {},
   "source": [
    "# Small Language Model from LLM\n",
    "Download an LLM, prune and quantize it, and benchmark it each step of the way."
   ]
  },
  {
   "cell_type": "markdown",
   "id": "f3d0bdf6-36ff-4dc3-acc5-d8197e941c1e",
   "metadata": {},
   "source": [
    "## Start by downloading an LLM\n",
    "I was going to use Llama 2 just because of how ubiquitous it currently is. However, I realized it requires HuggingFace authentication, because of how Meta AI has an approval process. To avoid cluttering the code with authentication, I just went with Mistral AI's Mistral model instead. We could choose larger versions of this model. However, to prove out and practice these model-optimization concepts, we can iterate faster with a smaller model like 7B.\n",
    "\n",
    "According to a discussion on HuggingFace, Llama-2 7B requires 28GB of GPU RAM. Assuming it is similar for Mistral 7B, and to be on the safe side, I'll over-provision with an ml.g5.4xlarge for my SageMaker Studio Notebook."
   ]
  },
  {
   "cell_type": "markdown",
   "id": "d25d47b5-8cc1-4994-889d-c9ac5246d020",
   "metadata": {},
   "source": [
    "### Set up environment\n",
    "At first I got the error `KeyError: 'mistral'` when running `from_pretrained()`\n",
    "The solution was on [the model's HuggingFace page](https://huggingface.co/mistralai/Mistral-7B-v0.1#troubleshooting)\n",
    "\n",
    "I tried installing `evaluate` later in the script, right before using it, but that gave me a warning that a `transformers` process already started. Once I moved the `pip install evaluate` to here, that warning went away."
   ]
  },
  {
   "cell_type": "code",
   "execution_count": null,
   "id": "9e780782-bb76-4a90-b057-a892d69ae609",
   "metadata": {},
   "outputs": [],
   "source": [
    "!pip install --upgrade datasets evaluate sentence_transformers transformers"
   ]
  },
  {
   "cell_type": "code",
   "execution_count": 2,
   "id": "79d6c0cc-b577-42eb-a439-dfa0c25c1366",
   "metadata": {},
   "outputs": [],
   "source": [
    "import torch\n",
    "from transformers import AutoModelForCausalLM, AutoTokenizer"
   ]
  },
  {
   "cell_type": "markdown",
   "id": "64cd4a07-2246-4198-85f6-04ecf5aa8b96",
   "metadata": {},
   "source": [
    "### Download LLM"
   ]
  },
  {
   "cell_type": "code",
   "execution_count": null,
   "id": "956cb49e-eff3-488d-8446-f21ac4e81baa",
   "metadata": {},
   "outputs": [],
   "source": [
    "model_repo = \"mistralai/Mistral-7B-v0.1\"\n",
    "tokenizer = AutoTokenizer.from_pretrained(model_repo)\n",
    "model = AutoModelForCausalLM.from_pretrained(model_repo, torch_dtype=torch.float16).to(\"cuda\")"
   ]
  },
  {
   "cell_type": "markdown",
   "id": "41953666-36ca-42fd-b45e-911a2eb4dafa",
   "metadata": {},
   "source": [
    "### Verify LLM works"
   ]
  },
  {
   "cell_type": "code",
   "execution_count": 4,
   "id": "0ce12127-8eea-460f-be5e-f7f6915c8a45",
   "metadata": {},
   "outputs": [],
   "source": [
    "# Simple prompt\n",
    "prompt = \"Write a Haiku explaining biodynamic farming.\""
   ]
  },
  {
   "cell_type": "code",
   "execution_count": 5,
   "id": "57296e79-63c8-4ea8-be79-88d724a4e075",
   "metadata": {},
   "outputs": [],
   "source": [
    "# Tokenize the prompt\n",
    "input_ids = tokenizer(prompt, return_tensors=\"pt\").input_ids.to(\"cuda\")"
   ]
  },
  {
   "cell_type": "code",
   "execution_count": null,
   "id": "d697f808-17c1-433f-b0d9-146e1fb0225a",
   "metadata": {},
   "outputs": [],
   "source": [
    "# Generate response\n",
    "output = model.generate(input_ids, max_length=35)"
   ]
  },
  {
   "cell_type": "code",
   "execution_count": 7,
   "id": "fa7a4ee2-53e3-485e-a9f3-68e4cb8c8f3c",
   "metadata": {},
   "outputs": [
    {
     "name": "stdout",
     "output_type": "stream",
     "text": [
      "Write a Haiku explaining biodynamic farming.\n",
      "\n",
      "The moon is full\n",
      "\n",
      "The sun is shining bright\n",
      "\n",
      "The earth is fertile\n",
      "\n",
      "The moon\n"
     ]
    }
   ],
   "source": [
    "# Decode generated text\n",
    "generated_text = tokenizer.decode(output[0], skip_special_tokens=True) \n",
    "print(generated_text)"
   ]
  },
  {
   "cell_type": "markdown",
   "id": "81c60e73-db99-4818-a793-185766fed5a6",
   "metadata": {},
   "source": [
    "## Benchmark FM for baseline\n",
    "Let's benchmark for accuracy, latency, and resource utilization (Memory, GPU, and CPU).\n",
    "\n",
    "### Set up environment for evaluations"
   ]
  },
  {
   "cell_type": "code",
   "execution_count": 8,
   "id": "58c48a70-637a-438a-aea9-0692e3ac422e",
   "metadata": {},
   "outputs": [],
   "source": [
    "from sentence_transformers import SentenceTransformer, util\n",
    "\n",
    "# Load the pre-trained SAS model\n",
    "sas_model = SentenceTransformer('sentence-transformers/paraphrase-mpnet-base-v2')\n",
    "\n",
    "# Set the pad token\n",
    "tokenizer.pad_token = tokenizer.eos_token\n",
    "\n",
    "def compute_sas(predicted_answers, reference_answers):\n",
    "    \"\"\"\n",
    "    Compute the Semantic Answer Similarity (SAS) between a list of predicted answers and reference answers.\n",
    "    \n",
    "    Args:\n",
    "        predicted_answers (list of str): The list of predicted answer texts.\n",
    "        reference_answers (list of str): The list of reference answer texts.\n",
    "    \n",
    "    Returns:\n",
    "        float: The average SAS score between the predicted and reference answers.\n",
    "    \"\"\"\n",
    "    sas_scores = []\n",
    "    for predicted, reference in zip(predicted_answers, reference_answers):\n",
    "        predicted_embedding = sas_model.encode(predicted, convert_to_tensor=True)\n",
    "        reference_embedding = sas_model.encode(reference, convert_to_tensor=True)\n",
    "        sas_score = util.cos_sim(predicted_embedding, reference_embedding).item()\n",
    "        sas_scores.append(sas_score)\n",
    "    \n",
    "    return sum(sas_scores) / len(sas_scores)"
   ]
  },
  {
   "cell_type": "markdown",
   "id": "363df553-9982-41e6-893b-fb4c5a127263",
   "metadata": {},
   "source": [
    "### Benchmark for Accuracy"
   ]
  },
  {
   "cell_type": "code",
   "execution_count": 9,
   "id": "aa5360df-f0cc-4435-9692-ea094c94349a",
   "metadata": {},
   "outputs": [],
   "source": [
    "from evaluate import load\n",
    "from datasets import load_dataset\n",
    "\n",
    "# Load the evaluation metric and dataset\n",
    "metric = load(\"accuracy\")\n",
    "dataset = load_dataset(\"allenai/reward-bench\")"
   ]
  },
  {
   "cell_type": "code",
   "execution_count": 37,
   "id": "678444ea-8ad0-49aa-96db-f10933ce52f0",
   "metadata": {},
   "outputs": [],
   "source": [
    "def generate_sample(prompt, model, tokenizer, max_new_tokens):\n",
    "    input_ids = tokenizer(prompt, return_tensors=\"pt\").input_ids.to(\"cuda\")\n",
    "    attention_mask = tokenizer(prompt, return_tensors=\"pt\").attention_mask.to(\"cuda\")\n",
    "    \n",
    "    output = model.generate(\n",
    "        input_ids,\n",
    "        attention_mask=attention_mask,\n",
    "        # more flexible than max_length, because it only limits output:\n",
    "        max_new_tokens=max_new_tokens,\n",
    "        pad_token_id=tokenizer.eos_token_id,\n",
    "    )\n",
    "    \n",
    "    generated_text = tokenizer.decode(output[0], skip_special_tokens=True)\n",
    "    return generated_text\n",
    "\n",
    "def generate_predictions(examples):\n",
    "    predictions = []\n",
    "    \n",
    "    for prompt, chosen in zip(examples[\"prompt\"], examples[\"chosen\"]):\n",
    "        # Generate the model's prediction\n",
    "        predicted_answer = generate_sample(prompt, model, tokenizer, max_new_tokens=100)\n",
    "        \n",
    "        # Append the predicted answer and reference answer to the predictions list\n",
    "        predictions.append({\"predicted\": predicted_answer, \"reference\": chosen})\n",
    "    \n",
    "    # Return the predictions\n",
    "    return {\"predictions\": predictions}"
   ]
  },
  {
   "cell_type": "code",
   "execution_count": 16,
   "id": "0f76c939-0330-4786-b620-16bf98a3728d",
   "metadata": {},
   "outputs": [
    {
     "data": {
      "text/plain": [
       "{'prompt': 'What are the names of some famous actors that started their careers on Broadway?',\n",
       " 'chosen': 'Several famous actors started their careers on Broadway before making it big in film and television. Here are a few notable examples:\\n\\n1. Sarah Jessica Parker - Before she was Carrie Bradshaw on \"Sex and the City,\" Sarah Jessica Parker was a Broadway star, having appeared in productions like \"Annie\" as a child.\\n\\n2. Meryl Streep - Meryl Streep\\'s early career included Broadway productions such as \"Trelawny of the \\'Wells\\'\" and \"A Memory of Two Mondays / 27 Wagons Full of Cotton.\"\\n\\n3. Hugh Jackman - Hugh Jackman won a Tony Award for his role in \"The Boy from Oz\" and has been known for his stage work as well as his film career.\\n\\n4. Sutton Foster - Known for her television role in \"Younger,\" Sutton Foster is also a Broadway legend with leading roles in shows like \"Thoroughly Modern Millie\" and \"Anything Goes.\"\\n\\n5. Kristen Bell - Before she was the voice of Anna in \"Frozen\" or the star of \"The Good Place,\" Kristen Bell appeared in Broadway\\'s \"The Adventures of Tom Sawyer\" and \"The Crucible.\"\\n\\n6. Audra McDonald - Audra McDonald is a renowned Broadway actress with a record-breaking number of Tony Awards. She\\'s starred in \"Ragtime,\" \"Carousel,\" \"Master Class,\" and more.\\n\\n7. Nathan Lane - Nathan Lane is a Broadway veteran known for his roles in \"The Producers,\" \"A Funny Thing Happened on the Way to the Forum,\" and \"Angels in America.\"\\n\\n8. Idina Menzel - Before \"Frozen\" and \"Wicked\" made her a household name, Idina Menzel started on Broadway in shows like \"Rent\" and \"Hair.\"\\n\\n9. Lin-Manuel Miranda - Before \"Hamilton\" and \"In the Heights\" became huge hits, Lin-Manuel Miranda was performing on Broadway, eventually becoming a celebrated writer and actor.\\n\\n10. Lea Michele - Prior to her role on \"Glee,\" Lea Michele was a young Broadway actress in shows like \"Les Misérables,\" \"Ragtime,\" and \"Spring Awakening.\"\\n\\nThese actors are just a few examples of the many performers who have transitioned from the Broadway stage to broader fame in the entertainment industry. Broadway often serves as a proving ground for talent, and many actors continue to return to the stage throughout their careers.',\n",
       " 'chosen_model': 'GPT4-Turbo',\n",
       " 'rejected': 'Some famous actors that started their careers on Broadway include: Tom Hanks, Meryl Streep, Laurence Olivier, Christopher Walken, and Jeremy Irons.',\n",
       " 'rejected_model': 'alpaca-7b',\n",
       " 'subset': 'alpacaeval-easy',\n",
       " 'id': 0}"
      ]
     },
     "execution_count": 16,
     "metadata": {},
     "output_type": "execute_result"
    }
   ],
   "source": [
    "# See what the dataset looks like.\n",
    "# Let's treat `prompt` like the Question and `chosen` like the Answer.\n",
    "dataset[\"train\"][0]"
   ]
  },
  {
   "cell_type": "markdown",
   "id": "b7e6001d-e515-4d9d-9b55-9bb00eebbace",
   "metadata": {},
   "source": [
    "We sample a subset of the data, to more quickly get a rough idea if the evaluation works and awards at least some level of accuracy. From a model like Mistral, we should get more than 10% accuracy from our evaluation -- hopefully a lot more. If it is 0% accuracy, then either our evaluation code doesn't work at all, or the similarity checking is too rigid.\n",
    "\n",
    "Also, the dataset contains over 5000 records in the `train` portion alone. This can take hours to iterate through. Since we are not yet running this as a dedicated SageMaker job, a long job like this in a notebook can easily time out. As a solution, we are frequently saving the evaluation results as `evaluation_snapshots`, so we can pick up where we left off, if we get cut off.\n",
    "\n",
    "Initial results of the following job, on a subset of 80 examples (`num_samples = 80`), was a \"Semantic Answer Similarity\" of \"0.72\" -- meaning a 72% accuracy. This is satisfactory"
   ]
  },
  {
   "cell_type": "code",
   "execution_count": 41,
   "id": "fef66b77-d87a-413a-b5d1-edff4805e614",
   "metadata": {},
   "outputs": [
    {
     "data": {
      "application/vnd.jupyter.widget-view+json": {
       "model_id": "35a574271cc94e7e96b0b7935c25ba22",
       "version_major": 2,
       "version_minor": 0
      },
      "text/plain": [
       "Map:   0%|          | 0/8 [00:00<?, ? examples/s]"
      ]
     },
     "metadata": {},
     "output_type": "display_data"
    },
    {
     "name": "stdout",
     "output_type": "stream",
     "text": [
      "Processed batch 1/10\n"
     ]
    },
    {
     "data": {
      "application/vnd.jupyter.widget-view+json": {
       "model_id": "016d98f6f37141f0839d2c7fe770c279",
       "version_major": 2,
       "version_minor": 0
      },
      "text/plain": [
       "Map:   0%|          | 0/8 [00:00<?, ? examples/s]"
      ]
     },
     "metadata": {},
     "output_type": "display_data"
    },
    {
     "name": "stdout",
     "output_type": "stream",
     "text": [
      "Processed batch 2/10\n"
     ]
    },
    {
     "data": {
      "application/vnd.jupyter.widget-view+json": {
       "model_id": "73a8900af7334da5a3dd7873e31179f7",
       "version_major": 2,
       "version_minor": 0
      },
      "text/plain": [
       "Map:   0%|          | 0/8 [00:00<?, ? examples/s]"
      ]
     },
     "metadata": {},
     "output_type": "display_data"
    },
    {
     "name": "stdout",
     "output_type": "stream",
     "text": [
      "Processed batch 3/10\n"
     ]
    },
    {
     "data": {
      "application/vnd.jupyter.widget-view+json": {
       "model_id": "2f8e2ca7e5cf4c22b37a08c43960f845",
       "version_major": 2,
       "version_minor": 0
      },
      "text/plain": [
       "Map:   0%|          | 0/8 [00:00<?, ? examples/s]"
      ]
     },
     "metadata": {},
     "output_type": "display_data"
    },
    {
     "name": "stdout",
     "output_type": "stream",
     "text": [
      "Processed batch 4/10\n"
     ]
    },
    {
     "data": {
      "application/vnd.jupyter.widget-view+json": {
       "model_id": "268fdb6230134856bb9d0c74ef93bbe5",
       "version_major": 2,
       "version_minor": 0
      },
      "text/plain": [
       "Map:   0%|          | 0/8 [00:00<?, ? examples/s]"
      ]
     },
     "metadata": {},
     "output_type": "display_data"
    },
    {
     "name": "stdout",
     "output_type": "stream",
     "text": [
      "Processed batch 5/10\n"
     ]
    },
    {
     "data": {
      "application/vnd.jupyter.widget-view+json": {
       "model_id": "3e4e07afd3ff4089a0f34b630a28fc94",
       "version_major": 2,
       "version_minor": 0
      },
      "text/plain": [
       "Map:   0%|          | 0/8 [00:00<?, ? examples/s]"
      ]
     },
     "metadata": {},
     "output_type": "display_data"
    },
    {
     "name": "stdout",
     "output_type": "stream",
     "text": [
      "Processed batch 6/10\n"
     ]
    },
    {
     "data": {
      "application/vnd.jupyter.widget-view+json": {
       "model_id": "2f6a103375b64bf4902a0207e1b24740",
       "version_major": 2,
       "version_minor": 0
      },
      "text/plain": [
       "Map:   0%|          | 0/8 [00:00<?, ? examples/s]"
      ]
     },
     "metadata": {},
     "output_type": "display_data"
    },
    {
     "name": "stdout",
     "output_type": "stream",
     "text": [
      "Processed batch 7/10\n"
     ]
    },
    {
     "data": {
      "application/vnd.jupyter.widget-view+json": {
       "model_id": "017d119f6b644b10ae8f72caa2a45716",
       "version_major": 2,
       "version_minor": 0
      },
      "text/plain": [
       "Map:   0%|          | 0/8 [00:00<?, ? examples/s]"
      ]
     },
     "metadata": {},
     "output_type": "display_data"
    },
    {
     "name": "stdout",
     "output_type": "stream",
     "text": [
      "Processed batch 8/10\n"
     ]
    },
    {
     "data": {
      "application/vnd.jupyter.widget-view+json": {
       "model_id": "4b8ccc1938e34f3d81e17629b77baa44",
       "version_major": 2,
       "version_minor": 0
      },
      "text/plain": [
       "Map:   0%|          | 0/8 [00:00<?, ? examples/s]"
      ]
     },
     "metadata": {},
     "output_type": "display_data"
    },
    {
     "name": "stdout",
     "output_type": "stream",
     "text": [
      "Processed batch 9/10\n"
     ]
    },
    {
     "data": {
      "application/vnd.jupyter.widget-view+json": {
       "model_id": "51918755eb3d4707869eb6d5e939eb12",
       "version_major": 2,
       "version_minor": 0
      },
      "text/plain": [
       "Map:   0%|          | 0/8 [00:00<?, ? examples/s]"
      ]
     },
     "metadata": {},
     "output_type": "display_data"
    },
    {
     "name": "stdout",
     "output_type": "stream",
     "text": [
      "Processed batch 10/10\n",
      "Semantic Answer Similarity: 0.72\n",
      "CPU times: user 5min 34s, sys: 2min 29s, total: 8min 3s\n",
      "Wall time: 7min 49s\n"
     ]
    }
   ],
   "source": [
    "%%time\n",
    "\n",
    "import os\n",
    "\n",
    "batch_size=8\n",
    "\n",
    "results_dir = \"evaluation_snapshots\"\n",
    "os.makedirs(results_dir, exist_ok=True)\n",
    "            \n",
    "subset_name = \"train\"\n",
    "subset_dataset = dataset[subset_name]\n",
    "\n",
    "# Limit to the first 80 Q&As\n",
    "num_samples = 80\n",
    "subset_dataset = subset_dataset.select(range(num_samples))\n",
    "\n",
    "num_batches = (len(subset_dataset) + batch_size - 1) // batch_size\n",
    "\n",
    "# Check for existing snapshots\n",
    "snapshot_files = sorted(os.listdir(results_dir))\n",
    "if snapshot_files:\n",
    "    latest_snapshot = snapshot_files[-1]\n",
    "    snapshot_path = os.path.join(results_dir, latest_snapshot)\n",
    "    snapshot = torch.load(snapshot_path)\n",
    "    predicted_answers = snapshot[\"predicted_answers\"]\n",
    "    reference_answers = snapshot[\"reference_answers\"]\n",
    "    start_batch_idx = int(latest_snapshot.split(\"_\")[-1].split(\".\")[0]) + 1\n",
    "else:\n",
    "    predicted_answers = []\n",
    "    reference_answers = []\n",
    "    start_batch_idx = 0\n",
    "\n",
    "for batch_idx in range(start_batch_idx, num_batches):\n",
    "    start_idx = batch_idx * batch_size\n",
    "    end_idx = min(start_idx + batch_size, len(subset_dataset))\n",
    "    batch_dataset = subset_dataset.select(range(start_idx, end_idx))\n",
    "    \n",
    "    batch_results = batch_dataset.map(generate_predictions, batched=True, batch_size=batch_size)\n",
    "    \n",
    "    batch_predicted_answers = [pred[\"predicted\"] for pred in batch_results[\"predictions\"]]\n",
    "    batch_reference_answers = [pred[\"reference\"] for pred in batch_results[\"predictions\"]]\n",
    "    \n",
    "    predicted_answers.extend(batch_predicted_answers)\n",
    "    reference_answers.extend(batch_reference_answers)\n",
    "    \n",
    "    # Save evaluation snapshot\n",
    "    snapshot_path = os.path.join(results_dir, f\"snapshot_{batch_idx}.pt\")\n",
    "    torch.save({\n",
    "        \"predicted_answers\": predicted_answers,\n",
    "        \"reference_answers\": reference_answers\n",
    "    }, snapshot_path)\n",
    "    \n",
    "    print(f\"Processed batch {batch_idx + 1}/{num_batches}\")\n",
    "\n",
    "# Compute SAS score\n",
    "sas_score = compute_sas(predicted_answers, reference_answers)\n",
    "print(f\"Semantic Answer Similarity: {sas_score:.2f}\")\n",
    "\n"
   ]
  },
  {
   "cell_type": "markdown",
   "id": "f537a9e2-c0b8-4987-97da-0b05f515c863",
   "metadata": {},
   "source": [
    "### Benchmark for Latency"
   ]
  },
  {
   "cell_type": "code",
   "execution_count": 33,
   "id": "f9d05b4a-925d-414b-ba21-477be142f4b1",
   "metadata": {},
   "outputs": [],
   "source": [
    "# Measure the latency for a given prompt and model\n",
    "import time\n",
    "from tqdm import tqdm\n",
    "\n",
    "def measure_latency(prompt, model, tokenizer, max_new_tokens, num_iterations=10):\n",
    "    latencies = []\n",
    "    \n",
    "    for _ in tqdm(range(num_iterations)):\n",
    "        input_ids = tokenizer(prompt, return_tensors=\"pt\").input_ids.to(\"cuda\")\n",
    "        attention_mask = tokenizer(prompt, return_tensors=\"pt\").attention_mask.to(\"cuda\")\n",
    "        \n",
    "        start_time = time.time()\n",
    "        _ = model.generate(\n",
    "            input_ids,\n",
    "            attention_mask=attention_mask,\n",
    "            max_new_tokens=max_new_tokens,\n",
    "            pad_token_id=tokenizer.eos_token_id,\n",
    "        )\n",
    "        end_time = time.time()\n",
    "        \n",
    "        latency = end_time - start_time\n",
    "        latencies.append(latency)\n",
    "    \n",
    "    return latencies"
   ]
  },
  {
   "cell_type": "markdown",
   "id": "bca5da7c-aa54-4cc3-8725-bf31d3c5698d",
   "metadata": {},
   "source": [
    "#### TODO -- improve prompts\n",
    "Improve these prompts so it actually returns a valid classification. This is not essential, since we're just establishing baseline latency. As long as we use the same prompts before and after optimizations, it's fine. But it would be nice if the model doesn't just parrot back the prompt itself as output."
   ]
  },
  {
   "cell_type": "code",
   "execution_count": 42,
   "id": "83b018a6-3dcd-4d8a-835d-941c1caf6533",
   "metadata": {},
   "outputs": [],
   "source": [
    "# Define the prompts for each use case\n",
    "classification_prompt = \"Classify the sentiment of the following movie \" \\\n",
    "                        \"review:\\nThe acting was superb and the plot kept \" \\\n",
    "                        \"me engaged throughout. The cinematography was \" \\\n",
    "                        \"stunning, and the soundtrack perfectly \" \\\n",
    "                        \"complemented the mood of each scene. Overall, it \" \\\n",
    "                        \"was a masterpiece of filmmaking.\"\n",
    "\n",
    "summarization_prompt = \"Summarize the following article:\\nClimate change \" \\\n",
    "                       \"is one of the most pressing issues of our time. \" \\\n",
    "                       \"Rising global temperatures, caused by the \" \\\n",
    "                       \"increase of greenhouse gases in the atmosphere, \" \\\n",
    "                       \"are leading to more frequent and intense natural \" \\\n",
    "                       \"disasters, such as hurricanes, wildfires, and \" \\\n",
    "                       \"droughts. Sea levels are rising, threatening \" \\\n",
    "                       \"coastal communities and ecosystems. To mitigate \" \\\n",
    "                       \"the effects of climate change, it is crucial that \" \\\n",
    "                       \"we reduce our carbon emissions by transitioning to \" \\\n",
    "                       \"renewable energy sources, promoting energy \" \\\n",
    "                       \"efficiency, and adopting sustainable practices in \" \\\n",
    "                       \"agriculture and land use. Governments, businesses, \" \\\n",
    "                       \"and individuals must work together to implement \" \\\n",
    "                       \"policies and actions that will help us avoid the \" \\\n",
    "                       \"worst consequences of climate change and ensure a \" \\\n",
    "                       \"sustainable future for generations to come.\"\n",
    "\n",
    "generation_prompt = \"Write a short story about a robot learning to \" \\\n",
    "                    \"understand human emotions.\""
   ]
  },
  {
   "cell_type": "code",
   "execution_count": 43,
   "id": "fd17b81e-451a-4659-b38b-eb75850b4151",
   "metadata": {},
   "outputs": [
    {
     "name": "stdout",
     "output_type": "stream",
     "text": [
      "Measuring classification latency...\n"
     ]
    },
    {
     "name": "stderr",
     "output_type": "stream",
     "text": [
      "100%|██████████| 10/10 [00:01<00:00,  8.57it/s]\n"
     ]
    },
    {
     "name": "stdout",
     "output_type": "stream",
     "text": [
      "Sample classification input:\n",
      "Classify the sentiment of the following movie review:\n",
      "The acting was superb and the plot kept me engaged throughout. The cinematography was stunning, and the soundtrack perfectly complemented the mood of each scene. Overall, it was a masterpiece of filmmaking.\n",
      "Sample classification output:\n",
      "Classify the sentiment of the following movie review:\n",
      "The acting was superb and the plot kept me engaged throughout. The cinematography was stunning, and the soundtrack perfectly complemented the mood of each scene. Overall, it was a masterpiece of filmmaking.\n",
      "\n",
      "\n",
      "\n",
      "\n",
      "Measuring summarization latency...\n"
     ]
    },
    {
     "name": "stderr",
     "output_type": "stream",
     "text": [
      "100%|██████████| 10/10 [00:11<00:00,  1.12s/it]\n"
     ]
    },
    {
     "name": "stdout",
     "output_type": "stream",
     "text": [
      "Sample summarization input:\n",
      "Summarize the following article:\n",
      "Climate change is one of the most pressing issues of our time. Rising global temperatures, caused by the increase of greenhouse gases in the atmosphere, are leading to more frequent and intense natural disasters, such as hurricanes, wildfires, and droughts. Sea levels are rising, threatening coastal communities and ecosystems. To mitigate the effects of climate change, it is crucial that we reduce our carbon emissions by transitioning to renewable energy sources, promoting energy efficiency, and adopting sustainable practices in agriculture and land use. Governments, businesses, and individuals must work together to implement policies and actions that will help us avoid the worst consequences of climate change and ensure a sustainable future for generations to come.\n",
      "Sample summarization output:\n",
      "Summarize the following article:\n",
      "Climate change is one of the most pressing issues of our time. Rising global temperatures, caused by the increase of greenhouse gases in the atmosphere, are leading to more frequent and intense natural disasters, such as hurricanes, wildfires, and droughts. Sea levels are rising, threatening coastal communities and ecosystems. To mitigate the effects of climate change, it is crucial that we reduce our carbon emissions by transitioning to renewable energy sources, promoting energy efficiency, and adopting sustainable practices in agriculture and land use. Governments, businesses, and individuals must work together to implement policies and actions that will help us avoid the worst consequences of climate change and ensure a sustainable future for generations to come.\n",
      "\n",
      "The article discusses the impact of climate change on the environment and the need for urgent action to mitigate its effects. It highlights the importance\n",
      "\n",
      "Measuring generation latency...\n"
     ]
    },
    {
     "name": "stderr",
     "output_type": "stream",
     "text": [
      "100%|██████████| 10/10 [01:49<00:00, 10.93s/it]\n"
     ]
    },
    {
     "name": "stdout",
     "output_type": "stream",
     "text": [
      "Sample generation input:\n",
      "Write a short story about a robot learning to understand human emotions.\n",
      "Sample generation output:\n",
      "Write a short story about a robot learning to understand human emotions.\n",
      "\n",
      "The robot was designed to be a companion for humans. It was programmed to understand human emotions and respond appropriately. However, the robot was not able to understand the full range of human emotions. It could only understand happiness, sadness, anger, and fear.\n",
      "\n",
      "The robot was programmed to respond to these emotions by saying things like “I’m sorry” or “I’m here for you.” However, the robot did not understand the full range of human emotions. It could only understand happiness, sadness, anger, and fear.\n",
      "\n",
      "The robot was programmed to respond to these emotions by saying things like “I’m sorry” or “I’m here for you.” However, the robot did not understand the full range of human emotions. It could only understand happiness, sadness, anger, and fear.\n",
      "\n",
      "The robot was programmed to respond to these emotions by saying things like “I’m sorry” or “I’m here for you.” However, the robot did not understand the full range of human emotions. It could only understand happiness, sadness, anger, and fear.\n",
      "\n",
      "The robot was programmed to respond to these emotions by saying things like “I’m sorry” or “I’m here for you.” However, the robot did not understand the full range of human emotions. It could only understand happiness, sadness, anger, and fear.\n",
      "\n",
      "The robot was programmed to\n",
      "\n"
     ]
    }
   ],
   "source": [
    "# Measure the latencies for each use case\n",
    "num_iterations = 10\n",
    "\n",
    "print(\"Measuring classification latency...\")\n",
    "classification_latencies = measure_latency(classification_prompt, model, tokenizer, max_new_tokens=3, num_iterations=num_iterations)\n",
    "print(\"Sample classification input:\")\n",
    "print(classification_prompt)\n",
    "print(\"Sample classification output:\")\n",
    "print(generate_sample(classification_prompt, model, tokenizer, max_new_tokens=3))\n",
    "print()\n",
    "\n",
    "print(\"Measuring summarization latency...\")\n",
    "summarization_latencies = measure_latency(summarization_prompt, model, tokenizer, max_new_tokens=30, num_iterations=num_iterations)\n",
    "print(\"Sample summarization input:\")\n",
    "print(summarization_prompt)\n",
    "print(\"Sample summarization output:\")\n",
    "print(generate_sample(summarization_prompt, model, tokenizer, max_new_tokens=30))\n",
    "print()\n",
    "\n",
    "print(\"Measuring generation latency...\")\n",
    "generation_latencies = measure_latency(generation_prompt, model, tokenizer, max_new_tokens=300, num_iterations=num_iterations)\n",
    "print(\"Sample generation input:\")\n",
    "print(generation_prompt)\n",
    "print(\"Sample generation output:\")\n",
    "print(generate_sample(generation_prompt, model, tokenizer, max_new_tokens=300))\n",
    "print()"
   ]
  },
  {
   "cell_type": "code",
   "execution_count": 29,
   "id": "c2a3a168-5952-44c8-ab42-a3e83ade1508",
   "metadata": {},
   "outputs": [
    {
     "data": {
      "image/png": "[encoded data removed]",
      "text/plain": [
       "<Figure size 1000x600 with 1 Axes>"
      ]
     },
     "metadata": {},
     "output_type": "display_data"
    }
   ],
   "source": [
    "# Visualize the results using a box plot\n",
    "import matplotlib.pyplot as plt\n",
    "\n",
    "plt.figure(figsize=(10, 6))\n",
    "plt.boxplot([classification_latencies, summarization_latencies, generation_latencies])\n",
    "plt.xticks([1, 2, 3], ['Classification', 'Summarization', 'Generation'])\n",
    "plt.ylabel('Latency (seconds)')\n",
    "plt.title('Latency Benchmarking')\n",
    "plt.grid(True)\n",
    "plt.show()"
   ]
  },
  {
   "cell_type": "code",
   "execution_count": 30,
   "id": "88012e75-e14f-4b60-b81e-b532256e7ad0",
   "metadata": {},
   "outputs": [
    {
     "name": "stdout",
     "output_type": "stream",
     "text": [
      "Classification latency:\n",
      "  Average: 0.14 seconds\n",
      "  Min: 0.14 seconds\n",
      "  Max: 0.14 seconds\n",
      "  Standard deviation: 0.00 seconds\n",
      "\n",
      "Summarization latency:\n",
      "  Average: 1.30 seconds\n",
      "  Min: 1.30 seconds\n",
      "  Max: 1.30 seconds\n",
      "  Standard deviation: 0.00 seconds\n",
      "\n",
      "Generation latency:\n",
      "  Average: 10.91 seconds\n",
      "  Min: 10.91 seconds\n",
      "  Max: 10.92 seconds\n",
      "  Standard deviation: 0.00 seconds\n"
     ]
    }
   ],
   "source": [
    "# Print the summary statistics\n",
    "import numpy as np\n",
    "\n",
    "print(\"Classification latency:\")\n",
    "print(f\"  Average: {np.mean(classification_latencies):.2f} seconds\")\n",
    "print(f\"  Min: {np.min(classification_latencies):.2f} seconds\")\n",
    "print(f\"  Max: {np.max(classification_latencies):.2f} seconds\")\n",
    "print(f\"  Standard deviation: {np.std(classification_latencies):.2f} seconds\")\n",
    "\n",
    "print(\"\\nSummarization latency:\")\n",
    "print(f\"  Average: {np.mean(summarization_latencies):.2f} seconds\")\n",
    "print(f\"  Min: {np.min(summarization_latencies):.2f} seconds\")\n",
    "print(f\"  Max: {np.max(summarization_latencies):.2f} seconds\")\n",
    "print(f\"  Standard deviation: {np.std(summarization_latencies):.2f} seconds\")\n",
    "\n",
    "print(\"\\nGeneration latency:\")\n",
    "print(f\"  Average: {np.mean(generation_latencies):.2f} seconds\")\n",
    "print(f\"  Min: {np.min(generation_latencies):.2f} seconds\")\n",
    "print(f\"  Max: {np.max(generation_latencies):.2f} seconds\")\n",
    "print(f\"  Standard deviation: {np.std(generation_latencies):.2f} seconds\")"
   ]
  },
  {
   "cell_type": "markdown",
   "id": "39a2518c-177d-41fc-af1e-acfc3b2721c9",
   "metadata": {},
   "source": [
    "### Benchmark for Resource Utilization\n",
    "Let's see how much of the memory, GPU, and CPU are used before we perform optimizations on the model."
   ]
  },
  {
   "cell_type": "code",
   "execution_count": null,
   "id": "15dd9b7f-a69f-44dc-a903-235f8d97da99",
   "metadata": {},
   "outputs": [],
   "source": [
    "!pip install psutil gputil"
   ]
  },
  {
   "cell_type": "code",
   "execution_count": 49,
   "id": "e5669753-942f-4f33-bfb8-af844c8a44c2",
   "metadata": {},
   "outputs": [],
   "source": [
    "import psutil\n",
    "import GPUtil"
   ]
  },
  {
   "cell_type": "code",
   "execution_count": 50,
   "id": "53900ee3-8a22-4271-a118-68efea186463",
   "metadata": {},
   "outputs": [],
   "source": [
    "def measure_resource_utilization(model, tokenizer, prompt, max_new_tokens, num_iterations=10):\n",
    "    memory_usages = []\n",
    "    gpu_usages = []\n",
    "    cpu_usages = []\n",
    "\n",
    "    for _ in range(num_iterations):\n",
    "        # Measure memory usage\n",
    "        memory_usage = psutil.Process().memory_info().rss / (1024 * 1024)  # MB\n",
    "        memory_usages.append(memory_usage)\n",
    "\n",
    "        # Measure GPU usage\n",
    "        gpu = GPUtil.getGPUs()[0]\n",
    "        gpu_usage = gpu.load * 100\n",
    "        gpu_usages.append(gpu_usage)\n",
    "\n",
    "        # Measure CPU usage\n",
    "        cpu_usage = psutil.cpu_percent()\n",
    "        cpu_usages.append(cpu_usage)\n",
    "\n",
    "        # Generate a sample to simulate the model's usage\n",
    "        _ = generate_sample(prompt, model, tokenizer, max_new_tokens)\n",
    "\n",
    "        time.sleep(0.1)  # Wait for a short interval before the next measurement\n",
    "\n",
    "    return memory_usages, gpu_usages, cpu_usages"
   ]
  },
  {
   "cell_type": "code",
   "execution_count": 51,
   "id": "f5c2f398-aa42-47af-99c0-d696a7f6d6f4",
   "metadata": {},
   "outputs": [
    {
     "name": "stdout",
     "output_type": "stream",
     "text": [
      "Measuring resource utilization for classification...\n",
      "Measuring resource utilization for summarization...\n",
      "Measuring resource utilization for generation...\n"
     ]
    }
   ],
   "source": [
    "num_iterations = 10\n",
    "\n",
    "print(\"Measuring resource utilization for classification...\")\n",
    "classification_memory, classification_gpu, classification_cpu = measure_resource_utilization(\n",
    "    model, tokenizer, classification_prompt, max_new_tokens=3, num_iterations=num_iterations)\n",
    "\n",
    "print(\"Measuring resource utilization for summarization...\")\n",
    "summarization_memory, summarization_gpu, summarization_cpu = measure_resource_utilization(\n",
    "    model, tokenizer, summarization_prompt, max_new_tokens=30, num_iterations=num_iterations)\n",
    "\n",
    "print(\"Measuring resource utilization for generation...\")\n",
    "generation_memory, generation_gpu, generation_cpu = measure_resource_utilization(\n",
    "    model, tokenizer, generation_prompt, max_new_tokens=300, num_iterations=num_iterations)"
   ]
  },
  {
   "cell_type": "code",
   "execution_count": 52,
   "id": "49818317-90f3-44fc-b26b-0a84dd5e9e70",
   "metadata": {},
   "outputs": [
    {
     "name": "stdout",
     "output_type": "stream",
     "text": [
      "Average resource utilization for classification:\n",
      "Memory: 2715.69 MB\n",
      "GPU: 42.70%\n",
      "CPU: 3.58%\n",
      "\n",
      "Average resource utilization for summarization:\n",
      "Memory: 2715.69 MB\n",
      "GPU: 76.40%\n",
      "CPU: 5.64%\n",
      "\n",
      "Average resource utilization for generation:\n",
      "Memory: 2715.69 MB\n",
      "GPU: 77.40%\n",
      "CPU: 6.38%\n"
     ]
    }
   ],
   "source": [
    "print(\"Average resource utilization for classification:\")\n",
    "print(f\"Memory: {sum(classification_memory) / num_iterations:.2f} MB\")\n",
    "print(f\"GPU: {sum(classification_gpu) / num_iterations:.2f}%\")\n",
    "print(f\"CPU: {sum(classification_cpu) / num_iterations:.2f}%\")\n",
    "print()\n",
    "\n",
    "print(\"Average resource utilization for summarization:\")\n",
    "print(f\"Memory: {sum(summarization_memory) / num_iterations:.2f} MB\")\n",
    "print(f\"GPU: {sum(summarization_gpu) / num_iterations:.2f}%\")\n",
    "print(f\"CPU: {sum(summarization_cpu) / num_iterations:.2f}%\")\n",
    "print()\n",
    "\n",
    "print(\"Average resource utilization for generation:\")\n",
    "print(f\"Memory: {sum(generation_memory) / num_iterations:.2f} MB\")\n",
    "print(f\"GPU: {sum(generation_gpu) / num_iterations:.2f}%\")\n",
    "print(f\"CPU: {sum(generation_cpu) / num_iterations:.2f}%\")"
   ]
  },
  {
   "cell_type": "code",
   "execution_count": 53,
   "id": "bbd32527-d4ca-4a41-865e-8e37de195004",
   "metadata": {},
   "outputs": [
    {
     "data": {
      "image/png": "[encoded data removed]",
      "text/plain": [
       "<Figure size 1500x500 with 3 Axes>"
      ]
     },
     "metadata": {},
     "output_type": "display_data"
    }
   ],
   "source": [
    "# Create a figure with three subplots\n",
    "fig, (ax1, ax2, ax3) = plt.subplots(1, 3, figsize=(15, 5))\n",
    "\n",
    "# Plot memory usage\n",
    "ax1.boxplot([classification_memory, summarization_memory, generation_memory])\n",
    "ax1.set_xticklabels(['Classification', 'Summarization', 'Generation'])\n",
    "ax1.set_ylabel('Memory Usage (MB)')\n",
    "ax1.set_title('Memory Usage')\n",
    "ax1.grid(True)\n",
    "\n",
    "# Plot GPU usage\n",
    "ax2.boxplot([classification_gpu, summarization_gpu, generation_gpu])\n",
    "ax2.set_xticklabels(['Classification', 'Summarization', 'Generation'])\n",
    "ax2.set_ylabel('GPU Usage (%)')\n",
    "ax2.set_title('GPU Usage')\n",
    "ax2.grid(True)\n",
    "\n",
    "# Plot CPU usage\n",
    "ax3.boxplot([classification_cpu, summarization_cpu, generation_cpu])\n",
    "ax3.set_xticklabels(['Classification', 'Summarization', 'Generation'])\n",
    "ax3.set_ylabel('CPU Usage (%)')\n",
    "ax3.set_title('CPU Usage')\n",
    "ax3.grid(True)\n",
    "\n",
    "# Adjust the spacing between subplots\n",
    "plt.tight_layout()\n",
    "\n",
    "# Display the plots\n",
    "plt.show()"
   ]
  },
  {
   "cell_type": "markdown",
   "id": "de8434ec-3d8f-4888-9634-6d23d2a7b36e",
   "metadata": {},
   "source": [
    "### TODO: Maybe I can incorporate the resource utilization measurements into the latency benchmarking, since it's already running of all those prompts"
   ]
  },
  {
   "cell_type": "code",
   "execution_count": null,
   "id": "a8234d72-9450-4276-b64f-0378693d7088",
   "metadata": {},
   "outputs": [],
   "source": []
  }
 ],
 "metadata": {
  "kernelspec": {
   "display_name": "Python 3 (ipykernel)",
   "language": "python",
   "name": "python3"
  },
  "language_info": {
   "codemirror_mode": {
    "name": "ipython",
    "version": 3
   },
   "file_extension": ".py",
   "mimetype": "text/x-python",
   "name": "python",
   "nbconvert_exporter": "python",
   "pygments_lexer": "ipython3",
   "version": "3.10.13"
  }
 },
 "nbformat": 4,
 "nbformat_minor": 5
}
